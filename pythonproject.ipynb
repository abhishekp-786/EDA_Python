{
 "cells": [
  {
   "cell_type": "markdown",
   "metadata": {},
   "source": [
    "Mobile Sales Explorartory Data Analysis (Python Project)"
   ]
  },
  {
   "cell_type": "markdown",
   "metadata": {},
   "source": [
    "Import the necessary libraries"
   ]
  },
  {
   "cell_type": "code",
   "execution_count": 2,
   "metadata": {},
   "outputs": [],
   "source": [
    "import numpy as np\n",
    "import matplotlib.pyplot as plt\n",
    "import seaborn as sns\n",
    "import pandas as pd"
   ]
  },
  {
   "cell_type": "markdown",
   "metadata": {},
   "source": [
    "Load the Dataset"
   ]
  },
  {
   "cell_type": "code",
   "execution_count": 3,
   "metadata": {},
   "outputs": [
    {
     "data": {
      "text/html": [
       "<div>\n",
       "<style scoped>\n",
       "    .dataframe tbody tr th:only-of-type {\n",
       "        vertical-align: middle;\n",
       "    }\n",
       "\n",
       "    .dataframe tbody tr th {\n",
       "        vertical-align: top;\n",
       "    }\n",
       "\n",
       "    .dataframe thead th {\n",
       "        text-align: right;\n",
       "    }\n",
       "</style>\n",
       "<table border=\"1\" class=\"dataframe\">\n",
       "  <thead>\n",
       "    <tr style=\"text-align: right;\">\n",
       "      <th></th>\n",
       "      <th>Date</th>\n",
       "      <th>Country</th>\n",
       "      <th>Distributor</th>\n",
       "      <th>Brand</th>\n",
       "      <th>Operator</th>\n",
       "      <th>Unit Cost</th>\n",
       "      <th>Amount</th>\n",
       "      <th>Unit Price</th>\n",
       "      <th>Sales</th>\n",
       "    </tr>\n",
       "  </thead>\n",
       "  <tbody>\n",
       "    <tr>\n",
       "      <th>0</th>\n",
       "      <td>2018-05-24</td>\n",
       "      <td>Colombia</td>\n",
       "      <td>Metro</td>\n",
       "      <td>Apple</td>\n",
       "      <td>Tuenti</td>\n",
       "      <td>750</td>\n",
       "      <td>89</td>\n",
       "      <td>1200</td>\n",
       "      <td>106800</td>\n",
       "    </tr>\n",
       "    <tr>\n",
       "      <th>1</th>\n",
       "      <td>2020-05-31</td>\n",
       "      <td>El Salvador</td>\n",
       "      <td>Saga Falabella</td>\n",
       "      <td>Apple</td>\n",
       "      <td>Tuenti</td>\n",
       "      <td>750</td>\n",
       "      <td>34</td>\n",
       "      <td>1200</td>\n",
       "      <td>40800</td>\n",
       "    </tr>\n",
       "    <tr>\n",
       "      <th>2</th>\n",
       "      <td>2021-08-30</td>\n",
       "      <td>Switzerland</td>\n",
       "      <td>Metro</td>\n",
       "      <td>Apple</td>\n",
       "      <td>Tuenti</td>\n",
       "      <td>750</td>\n",
       "      <td>18</td>\n",
       "      <td>1200</td>\n",
       "      <td>21600</td>\n",
       "    </tr>\n",
       "    <tr>\n",
       "      <th>3</th>\n",
       "      <td>2021-08-03</td>\n",
       "      <td>Mexico</td>\n",
       "      <td>Oeschle</td>\n",
       "      <td>Apple</td>\n",
       "      <td>Tuenti</td>\n",
       "      <td>750</td>\n",
       "      <td>129</td>\n",
       "      <td>1200</td>\n",
       "      <td>154800</td>\n",
       "    </tr>\n",
       "    <tr>\n",
       "      <th>4</th>\n",
       "      <td>2018-03-21</td>\n",
       "      <td>Paraguay</td>\n",
       "      <td>Ripley</td>\n",
       "      <td>Apple</td>\n",
       "      <td>Tuenti</td>\n",
       "      <td>750</td>\n",
       "      <td>95</td>\n",
       "      <td>1200</td>\n",
       "      <td>114000</td>\n",
       "    </tr>\n",
       "  </tbody>\n",
       "</table>\n",
       "</div>"
      ],
      "text/plain": [
       "        Date      Country     Distributor  Brand Operator  Unit Cost  Amount  \\\n",
       "0 2018-05-24     Colombia           Metro  Apple   Tuenti        750      89   \n",
       "1 2020-05-31  El Salvador  Saga Falabella  Apple   Tuenti        750      34   \n",
       "2 2021-08-30  Switzerland           Metro  Apple   Tuenti        750      18   \n",
       "3 2021-08-03       Mexico         Oeschle  Apple   Tuenti        750     129   \n",
       "4 2018-03-21     Paraguay          Ripley  Apple   Tuenti        750      95   \n",
       "\n",
       "   Unit Price   Sales  \n",
       "0        1200  106800  \n",
       "1        1200   40800  \n",
       "2        1200   21600  \n",
       "3        1200  154800  \n",
       "4        1200  114000  "
      ]
     },
     "execution_count": 3,
     "metadata": {},
     "output_type": "execute_result"
    }
   ],
   "source": [
    "data = pd.read_excel(\"C:/Users/ABHISHEK/OneDrive/Documents/Mobile Sales Data for Python Project.xlsx\", sheet_name=\"Phone Sales\")\n",
    "data.head()"
   ]
  },
  {
   "cell_type": "code",
   "execution_count": 4,
   "metadata": {},
   "outputs": [
    {
     "data": {
      "text/html": [
       "<div>\n",
       "<style scoped>\n",
       "    .dataframe tbody tr th:only-of-type {\n",
       "        vertical-align: middle;\n",
       "    }\n",
       "\n",
       "    .dataframe tbody tr th {\n",
       "        vertical-align: top;\n",
       "    }\n",
       "\n",
       "    .dataframe thead th {\n",
       "        text-align: right;\n",
       "    }\n",
       "</style>\n",
       "<table border=\"1\" class=\"dataframe\">\n",
       "  <thead>\n",
       "    <tr style=\"text-align: right;\">\n",
       "      <th></th>\n",
       "      <th>Date</th>\n",
       "      <th>Country</th>\n",
       "      <th>Distributor</th>\n",
       "      <th>Brand</th>\n",
       "      <th>Operator</th>\n",
       "      <th>Unit Cost</th>\n",
       "      <th>Amount</th>\n",
       "      <th>Unit Price</th>\n",
       "      <th>Sales</th>\n",
       "    </tr>\n",
       "  </thead>\n",
       "  <tbody>\n",
       "    <tr>\n",
       "      <th>2993</th>\n",
       "      <td>2020-08-23</td>\n",
       "      <td>Germany</td>\n",
       "      <td>Tottus</td>\n",
       "      <td>Samsung</td>\n",
       "      <td>Movistar</td>\n",
       "      <td>590</td>\n",
       "      <td>44</td>\n",
       "      <td>820</td>\n",
       "      <td>36080</td>\n",
       "    </tr>\n",
       "    <tr>\n",
       "      <th>2994</th>\n",
       "      <td>2018-08-17</td>\n",
       "      <td>Cuba</td>\n",
       "      <td>Saga Falabella</td>\n",
       "      <td>Samsung</td>\n",
       "      <td>Movistar</td>\n",
       "      <td>590</td>\n",
       "      <td>5</td>\n",
       "      <td>820</td>\n",
       "      <td>4100</td>\n",
       "    </tr>\n",
       "    <tr>\n",
       "      <th>2995</th>\n",
       "      <td>2018-12-13</td>\n",
       "      <td>Denmark</td>\n",
       "      <td>Ripley</td>\n",
       "      <td>Samsung</td>\n",
       "      <td>Movistar</td>\n",
       "      <td>590</td>\n",
       "      <td>17</td>\n",
       "      <td>820</td>\n",
       "      <td>13940</td>\n",
       "    </tr>\n",
       "    <tr>\n",
       "      <th>2996</th>\n",
       "      <td>2019-12-09</td>\n",
       "      <td>Germany</td>\n",
       "      <td>Ripley</td>\n",
       "      <td>Samsung</td>\n",
       "      <td>Movistar</td>\n",
       "      <td>590</td>\n",
       "      <td>7</td>\n",
       "      <td>820</td>\n",
       "      <td>5740</td>\n",
       "    </tr>\n",
       "    <tr>\n",
       "      <th>2997</th>\n",
       "      <td>2020-04-14</td>\n",
       "      <td>Venezuela</td>\n",
       "      <td>Oeschle</td>\n",
       "      <td>Samsung</td>\n",
       "      <td>Movistar</td>\n",
       "      <td>590</td>\n",
       "      <td>37</td>\n",
       "      <td>820</td>\n",
       "      <td>30340</td>\n",
       "    </tr>\n",
       "  </tbody>\n",
       "</table>\n",
       "</div>"
      ],
      "text/plain": [
       "           Date    Country     Distributor    Brand  Operator  Unit Cost  \\\n",
       "2993 2020-08-23    Germany          Tottus  Samsung  Movistar        590   \n",
       "2994 2018-08-17       Cuba  Saga Falabella  Samsung  Movistar        590   \n",
       "2995 2018-12-13    Denmark          Ripley  Samsung  Movistar        590   \n",
       "2996 2019-12-09    Germany          Ripley  Samsung  Movistar        590   \n",
       "2997 2020-04-14  Venezuela         Oeschle  Samsung  Movistar        590   \n",
       "\n",
       "      Amount  Unit Price  Sales  \n",
       "2993      44         820  36080  \n",
       "2994       5         820   4100  \n",
       "2995      17         820  13940  \n",
       "2996       7         820   5740  \n",
       "2997      37         820  30340  "
      ]
     },
     "execution_count": 4,
     "metadata": {},
     "output_type": "execute_result"
    }
   ],
   "source": [
    "data.tail()"
   ]
  },
  {
   "cell_type": "markdown",
   "metadata": {},
   "source": [
    "Basic information about Dataset"
   ]
  },
  {
   "cell_type": "code",
   "execution_count": 5,
   "metadata": {},
   "outputs": [
    {
     "name": "stdout",
     "output_type": "stream",
     "text": [
      "<class 'pandas.core.frame.DataFrame'>\n",
      "RangeIndex: 2998 entries, 0 to 2997\n",
      "Data columns (total 9 columns):\n",
      " #   Column       Non-Null Count  Dtype         \n",
      "---  ------       --------------  -----         \n",
      " 0   Date         2998 non-null   datetime64[ns]\n",
      " 1   Country      2998 non-null   object        \n",
      " 2   Distributor  2998 non-null   object        \n",
      " 3   Brand        2998 non-null   object        \n",
      " 4   Operator     2998 non-null   object        \n",
      " 5   Unit Cost    2998 non-null   int64         \n",
      " 6   Amount       2998 non-null   int64         \n",
      " 7   Unit Price   2998 non-null   int64         \n",
      " 8   Sales        2998 non-null   int64         \n",
      "dtypes: datetime64[ns](1), int64(4), object(4)\n",
      "memory usage: 210.9+ KB\n"
     ]
    }
   ],
   "source": [
    "data.info()"
   ]
  },
  {
   "cell_type": "markdown",
   "metadata": {},
   "source": [
    "=> there is 2998(0 to 2997) rows and total 9 columns \n",
    "    4 numeric columns(Amount, Unit Cost, Unit Price, Sales) and 4 more columns(Country, Distributor, Brand, Opeartor) and a date column"
   ]
  },
  {
   "cell_type": "markdown",
   "metadata": {},
   "source": [
    "Statistical summary of the Dataset"
   ]
  },
  {
   "cell_type": "code",
   "execution_count": 6,
   "metadata": {},
   "outputs": [
    {
     "data": {
      "text/html": [
       "<div>\n",
       "<style scoped>\n",
       "    .dataframe tbody tr th:only-of-type {\n",
       "        vertical-align: middle;\n",
       "    }\n",
       "\n",
       "    .dataframe tbody tr th {\n",
       "        vertical-align: top;\n",
       "    }\n",
       "\n",
       "    .dataframe thead th {\n",
       "        text-align: right;\n",
       "    }\n",
       "</style>\n",
       "<table border=\"1\" class=\"dataframe\">\n",
       "  <thead>\n",
       "    <tr style=\"text-align: right;\">\n",
       "      <th></th>\n",
       "      <th>Date</th>\n",
       "      <th>Unit Cost</th>\n",
       "      <th>Amount</th>\n",
       "      <th>Unit Price</th>\n",
       "      <th>Sales</th>\n",
       "    </tr>\n",
       "  </thead>\n",
       "  <tbody>\n",
       "    <tr>\n",
       "      <th>count</th>\n",
       "      <td>2998</td>\n",
       "      <td>2998.000000</td>\n",
       "      <td>2998.000000</td>\n",
       "      <td>2998.000000</td>\n",
       "      <td>2998.000000</td>\n",
       "    </tr>\n",
       "    <tr>\n",
       "      <th>mean</th>\n",
       "      <td>2020-04-08 15:12:36.504336128</td>\n",
       "      <td>541.534356</td>\n",
       "      <td>50.815210</td>\n",
       "      <td>830.126751</td>\n",
       "      <td>42429.886591</td>\n",
       "    </tr>\n",
       "    <tr>\n",
       "      <th>min</th>\n",
       "      <td>2018-01-03 00:00:00</td>\n",
       "      <td>175.000000</td>\n",
       "      <td>1.000000</td>\n",
       "      <td>450.000000</td>\n",
       "      <td>450.000000</td>\n",
       "    </tr>\n",
       "    <tr>\n",
       "      <th>25%</th>\n",
       "      <td>2019-03-16 06:00:00</td>\n",
       "      <td>550.000000</td>\n",
       "      <td>14.000000</td>\n",
       "      <td>800.000000</td>\n",
       "      <td>10862.500000</td>\n",
       "    </tr>\n",
       "    <tr>\n",
       "      <th>50%</th>\n",
       "      <td>2020-05-30 00:00:00</td>\n",
       "      <td>590.000000</td>\n",
       "      <td>33.000000</td>\n",
       "      <td>820.000000</td>\n",
       "      <td>26000.000000</td>\n",
       "    </tr>\n",
       "    <tr>\n",
       "      <th>75%</th>\n",
       "      <td>2021-05-12 00:00:00</td>\n",
       "      <td>675.000000</td>\n",
       "      <td>70.000000</td>\n",
       "      <td>950.000000</td>\n",
       "      <td>57000.000000</td>\n",
       "    </tr>\n",
       "    <tr>\n",
       "      <th>max</th>\n",
       "      <td>2021-12-31 00:00:00</td>\n",
       "      <td>750.000000</td>\n",
       "      <td>295.000000</td>\n",
       "      <td>1200.000000</td>\n",
       "      <td>336000.000000</td>\n",
       "    </tr>\n",
       "    <tr>\n",
       "      <th>std</th>\n",
       "      <td>NaN</td>\n",
       "      <td>169.081053</td>\n",
       "      <td>52.102526</td>\n",
       "      <td>210.767344</td>\n",
       "      <td>46234.737273</td>\n",
       "    </tr>\n",
       "  </tbody>\n",
       "</table>\n",
       "</div>"
      ],
      "text/plain": [
       "                                Date    Unit Cost       Amount   Unit Price  \\\n",
       "count                           2998  2998.000000  2998.000000  2998.000000   \n",
       "mean   2020-04-08 15:12:36.504336128   541.534356    50.815210   830.126751   \n",
       "min              2018-01-03 00:00:00   175.000000     1.000000   450.000000   \n",
       "25%              2019-03-16 06:00:00   550.000000    14.000000   800.000000   \n",
       "50%              2020-05-30 00:00:00   590.000000    33.000000   820.000000   \n",
       "75%              2021-05-12 00:00:00   675.000000    70.000000   950.000000   \n",
       "max              2021-12-31 00:00:00   750.000000   295.000000  1200.000000   \n",
       "std                              NaN   169.081053    52.102526   210.767344   \n",
       "\n",
       "               Sales  \n",
       "count    2998.000000  \n",
       "mean    42429.886591  \n",
       "min       450.000000  \n",
       "25%     10862.500000  \n",
       "50%     26000.000000  \n",
       "75%     57000.000000  \n",
       "max    336000.000000  \n",
       "std     46234.737273  "
      ]
     },
     "execution_count": 6,
     "metadata": {},
     "output_type": "execute_result"
    }
   ],
   "source": [
    "data.describe()"
   ]
  },
  {
   "cell_type": "markdown",
   "metadata": {},
   "source": [
    "=> According to above information, Minimum unit cost = 175\n",
    "                                Maximum unit cost = 750\n",
    "                                Min Ammount = 1\n",
    "                                Max Ammount = 295\n",
    "                                Min Unit Price = 450\n",
    "                                Max unit Price = 1200\n",
    "                                Min Sale = 450\n",
    "                                Max Sale = 336000"
   ]
  },
  {
   "cell_type": "markdown",
   "metadata": {},
   "source": [
    "To see the missing values in the DataSet"
   ]
  },
  {
   "cell_type": "code",
   "execution_count": 7,
   "metadata": {},
   "outputs": [
    {
     "data": {
      "text/html": [
       "<div>\n",
       "<style scoped>\n",
       "    .dataframe tbody tr th:only-of-type {\n",
       "        vertical-align: middle;\n",
       "    }\n",
       "\n",
       "    .dataframe tbody tr th {\n",
       "        vertical-align: top;\n",
       "    }\n",
       "\n",
       "    .dataframe thead th {\n",
       "        text-align: right;\n",
       "    }\n",
       "</style>\n",
       "<table border=\"1\" class=\"dataframe\">\n",
       "  <thead>\n",
       "    <tr style=\"text-align: right;\">\n",
       "      <th></th>\n",
       "      <th>Date</th>\n",
       "      <th>Country</th>\n",
       "      <th>Distributor</th>\n",
       "      <th>Brand</th>\n",
       "      <th>Operator</th>\n",
       "      <th>Unit Cost</th>\n",
       "      <th>Amount</th>\n",
       "      <th>Unit Price</th>\n",
       "      <th>Sales</th>\n",
       "    </tr>\n",
       "  </thead>\n",
       "  <tbody>\n",
       "    <tr>\n",
       "      <th>0</th>\n",
       "      <td>False</td>\n",
       "      <td>False</td>\n",
       "      <td>False</td>\n",
       "      <td>False</td>\n",
       "      <td>False</td>\n",
       "      <td>False</td>\n",
       "      <td>False</td>\n",
       "      <td>False</td>\n",
       "      <td>False</td>\n",
       "    </tr>\n",
       "    <tr>\n",
       "      <th>1</th>\n",
       "      <td>False</td>\n",
       "      <td>False</td>\n",
       "      <td>False</td>\n",
       "      <td>False</td>\n",
       "      <td>False</td>\n",
       "      <td>False</td>\n",
       "      <td>False</td>\n",
       "      <td>False</td>\n",
       "      <td>False</td>\n",
       "    </tr>\n",
       "    <tr>\n",
       "      <th>2</th>\n",
       "      <td>False</td>\n",
       "      <td>False</td>\n",
       "      <td>False</td>\n",
       "      <td>False</td>\n",
       "      <td>False</td>\n",
       "      <td>False</td>\n",
       "      <td>False</td>\n",
       "      <td>False</td>\n",
       "      <td>False</td>\n",
       "    </tr>\n",
       "    <tr>\n",
       "      <th>3</th>\n",
       "      <td>False</td>\n",
       "      <td>False</td>\n",
       "      <td>False</td>\n",
       "      <td>False</td>\n",
       "      <td>False</td>\n",
       "      <td>False</td>\n",
       "      <td>False</td>\n",
       "      <td>False</td>\n",
       "      <td>False</td>\n",
       "    </tr>\n",
       "    <tr>\n",
       "      <th>4</th>\n",
       "      <td>False</td>\n",
       "      <td>False</td>\n",
       "      <td>False</td>\n",
       "      <td>False</td>\n",
       "      <td>False</td>\n",
       "      <td>False</td>\n",
       "      <td>False</td>\n",
       "      <td>False</td>\n",
       "      <td>False</td>\n",
       "    </tr>\n",
       "    <tr>\n",
       "      <th>...</th>\n",
       "      <td>...</td>\n",
       "      <td>...</td>\n",
       "      <td>...</td>\n",
       "      <td>...</td>\n",
       "      <td>...</td>\n",
       "      <td>...</td>\n",
       "      <td>...</td>\n",
       "      <td>...</td>\n",
       "      <td>...</td>\n",
       "    </tr>\n",
       "    <tr>\n",
       "      <th>2993</th>\n",
       "      <td>False</td>\n",
       "      <td>False</td>\n",
       "      <td>False</td>\n",
       "      <td>False</td>\n",
       "      <td>False</td>\n",
       "      <td>False</td>\n",
       "      <td>False</td>\n",
       "      <td>False</td>\n",
       "      <td>False</td>\n",
       "    </tr>\n",
       "    <tr>\n",
       "      <th>2994</th>\n",
       "      <td>False</td>\n",
       "      <td>False</td>\n",
       "      <td>False</td>\n",
       "      <td>False</td>\n",
       "      <td>False</td>\n",
       "      <td>False</td>\n",
       "      <td>False</td>\n",
       "      <td>False</td>\n",
       "      <td>False</td>\n",
       "    </tr>\n",
       "    <tr>\n",
       "      <th>2995</th>\n",
       "      <td>False</td>\n",
       "      <td>False</td>\n",
       "      <td>False</td>\n",
       "      <td>False</td>\n",
       "      <td>False</td>\n",
       "      <td>False</td>\n",
       "      <td>False</td>\n",
       "      <td>False</td>\n",
       "      <td>False</td>\n",
       "    </tr>\n",
       "    <tr>\n",
       "      <th>2996</th>\n",
       "      <td>False</td>\n",
       "      <td>False</td>\n",
       "      <td>False</td>\n",
       "      <td>False</td>\n",
       "      <td>False</td>\n",
       "      <td>False</td>\n",
       "      <td>False</td>\n",
       "      <td>False</td>\n",
       "      <td>False</td>\n",
       "    </tr>\n",
       "    <tr>\n",
       "      <th>2997</th>\n",
       "      <td>False</td>\n",
       "      <td>False</td>\n",
       "      <td>False</td>\n",
       "      <td>False</td>\n",
       "      <td>False</td>\n",
       "      <td>False</td>\n",
       "      <td>False</td>\n",
       "      <td>False</td>\n",
       "      <td>False</td>\n",
       "    </tr>\n",
       "  </tbody>\n",
       "</table>\n",
       "<p>2998 rows × 9 columns</p>\n",
       "</div>"
      ],
      "text/plain": [
       "       Date  Country  Distributor  Brand  Operator  Unit Cost  Amount  \\\n",
       "0     False    False        False  False     False      False   False   \n",
       "1     False    False        False  False     False      False   False   \n",
       "2     False    False        False  False     False      False   False   \n",
       "3     False    False        False  False     False      False   False   \n",
       "4     False    False        False  False     False      False   False   \n",
       "...     ...      ...          ...    ...       ...        ...     ...   \n",
       "2993  False    False        False  False     False      False   False   \n",
       "2994  False    False        False  False     False      False   False   \n",
       "2995  False    False        False  False     False      False   False   \n",
       "2996  False    False        False  False     False      False   False   \n",
       "2997  False    False        False  False     False      False   False   \n",
       "\n",
       "      Unit Price  Sales  \n",
       "0          False  False  \n",
       "1          False  False  \n",
       "2          False  False  \n",
       "3          False  False  \n",
       "4          False  False  \n",
       "...          ...    ...  \n",
       "2993       False  False  \n",
       "2994       False  False  \n",
       "2995       False  False  \n",
       "2996       False  False  \n",
       "2997       False  False  \n",
       "\n",
       "[2998 rows x 9 columns]"
      ]
     },
     "execution_count": 7,
     "metadata": {},
     "output_type": "execute_result"
    }
   ],
   "source": [
    "data.isnull()"
   ]
  },
  {
   "cell_type": "code",
   "execution_count": 8,
   "metadata": {},
   "outputs": [
    {
     "data": {
      "text/plain": [
       "Date           0\n",
       "Country        0\n",
       "Distributor    0\n",
       "Brand          0\n",
       "Operator       0\n",
       "Unit Cost      0\n",
       "Amount         0\n",
       "Unit Price     0\n",
       "Sales          0\n",
       "dtype: int64"
      ]
     },
     "execution_count": 8,
     "metadata": {},
     "output_type": "execute_result"
    }
   ],
   "source": [
    "data.isnull().sum()"
   ]
  },
  {
   "cell_type": "markdown",
   "metadata": {},
   "source": [
    "=> Means there is no missing values in any column"
   ]
  },
  {
   "cell_type": "markdown",
   "metadata": {},
   "source": [
    "To see the shape of the dataset"
   ]
  },
  {
   "cell_type": "code",
   "execution_count": 9,
   "metadata": {},
   "outputs": [
    {
     "data": {
      "text/plain": [
       "(2998, 9)"
      ]
     },
     "execution_count": 9,
     "metadata": {},
     "output_type": "execute_result"
    }
   ],
   "source": [
    "data.shape"
   ]
  },
  {
   "cell_type": "markdown",
   "metadata": {},
   "source": [
    "To see the duplicate rows"
   ]
  },
  {
   "cell_type": "code",
   "execution_count": 10,
   "metadata": {},
   "outputs": [
    {
     "data": {
      "text/plain": [
       "np.int64(1499)"
      ]
     },
     "execution_count": 10,
     "metadata": {},
     "output_type": "execute_result"
    }
   ],
   "source": [
    "data.duplicated().sum()"
   ]
  },
  {
   "cell_type": "markdown",
   "metadata": {},
   "source": [
    "=> This dataset has 1499 duplicate rows so we need to remove them"
   ]
  },
  {
   "cell_type": "code",
   "execution_count": 11,
   "metadata": {},
   "outputs": [],
   "source": [
    "data = data.drop_duplicates().reset_index(drop=True)"
   ]
  },
  {
   "cell_type": "code",
   "execution_count": 12,
   "metadata": {},
   "outputs": [
    {
     "name": "stdout",
     "output_type": "stream",
     "text": [
      "<class 'pandas.core.frame.DataFrame'>\n",
      "RangeIndex: 1499 entries, 0 to 1498\n",
      "Data columns (total 9 columns):\n",
      " #   Column       Non-Null Count  Dtype         \n",
      "---  ------       --------------  -----         \n",
      " 0   Date         1499 non-null   datetime64[ns]\n",
      " 1   Country      1499 non-null   object        \n",
      " 2   Distributor  1499 non-null   object        \n",
      " 3   Brand        1499 non-null   object        \n",
      " 4   Operator     1499 non-null   object        \n",
      " 5   Unit Cost    1499 non-null   int64         \n",
      " 6   Amount       1499 non-null   int64         \n",
      " 7   Unit Price   1499 non-null   int64         \n",
      " 8   Sales        1499 non-null   int64         \n",
      "dtypes: datetime64[ns](1), int64(4), object(4)\n",
      "memory usage: 105.5+ KB\n"
     ]
    }
   ],
   "source": [
    "data.info()"
   ]
  },
  {
   "cell_type": "code",
   "execution_count": 13,
   "metadata": {},
   "outputs": [
    {
     "data": {
      "text/html": [
       "<div>\n",
       "<style scoped>\n",
       "    .dataframe tbody tr th:only-of-type {\n",
       "        vertical-align: middle;\n",
       "    }\n",
       "\n",
       "    .dataframe tbody tr th {\n",
       "        vertical-align: top;\n",
       "    }\n",
       "\n",
       "    .dataframe thead th {\n",
       "        text-align: right;\n",
       "    }\n",
       "</style>\n",
       "<table border=\"1\" class=\"dataframe\">\n",
       "  <thead>\n",
       "    <tr style=\"text-align: right;\">\n",
       "      <th></th>\n",
       "      <th>Date</th>\n",
       "      <th>Country</th>\n",
       "      <th>Distributor</th>\n",
       "      <th>Brand</th>\n",
       "      <th>Operator</th>\n",
       "      <th>Unit Cost</th>\n",
       "      <th>Amount</th>\n",
       "      <th>Unit Price</th>\n",
       "      <th>Sales</th>\n",
       "    </tr>\n",
       "  </thead>\n",
       "  <tbody>\n",
       "    <tr>\n",
       "      <th>1494</th>\n",
       "      <td>2020-08-23</td>\n",
       "      <td>Germany</td>\n",
       "      <td>Tottus</td>\n",
       "      <td>Samsung</td>\n",
       "      <td>Movistar</td>\n",
       "      <td>590</td>\n",
       "      <td>44</td>\n",
       "      <td>820</td>\n",
       "      <td>36080</td>\n",
       "    </tr>\n",
       "    <tr>\n",
       "      <th>1495</th>\n",
       "      <td>2018-08-17</td>\n",
       "      <td>Cuba</td>\n",
       "      <td>Saga Falabella</td>\n",
       "      <td>Samsung</td>\n",
       "      <td>Movistar</td>\n",
       "      <td>590</td>\n",
       "      <td>5</td>\n",
       "      <td>820</td>\n",
       "      <td>4100</td>\n",
       "    </tr>\n",
       "    <tr>\n",
       "      <th>1496</th>\n",
       "      <td>2018-12-13</td>\n",
       "      <td>Denmark</td>\n",
       "      <td>Ripley</td>\n",
       "      <td>Samsung</td>\n",
       "      <td>Movistar</td>\n",
       "      <td>590</td>\n",
       "      <td>17</td>\n",
       "      <td>820</td>\n",
       "      <td>13940</td>\n",
       "    </tr>\n",
       "    <tr>\n",
       "      <th>1497</th>\n",
       "      <td>2019-12-09</td>\n",
       "      <td>Germany</td>\n",
       "      <td>Ripley</td>\n",
       "      <td>Samsung</td>\n",
       "      <td>Movistar</td>\n",
       "      <td>590</td>\n",
       "      <td>7</td>\n",
       "      <td>820</td>\n",
       "      <td>5740</td>\n",
       "    </tr>\n",
       "    <tr>\n",
       "      <th>1498</th>\n",
       "      <td>2020-04-14</td>\n",
       "      <td>Venezuela</td>\n",
       "      <td>Oeschle</td>\n",
       "      <td>Samsung</td>\n",
       "      <td>Movistar</td>\n",
       "      <td>590</td>\n",
       "      <td>37</td>\n",
       "      <td>820</td>\n",
       "      <td>30340</td>\n",
       "    </tr>\n",
       "  </tbody>\n",
       "</table>\n",
       "</div>"
      ],
      "text/plain": [
       "           Date    Country     Distributor    Brand  Operator  Unit Cost  \\\n",
       "1494 2020-08-23    Germany          Tottus  Samsung  Movistar        590   \n",
       "1495 2018-08-17       Cuba  Saga Falabella  Samsung  Movistar        590   \n",
       "1496 2018-12-13    Denmark          Ripley  Samsung  Movistar        590   \n",
       "1497 2019-12-09    Germany          Ripley  Samsung  Movistar        590   \n",
       "1498 2020-04-14  Venezuela         Oeschle  Samsung  Movistar        590   \n",
       "\n",
       "      Amount  Unit Price  Sales  \n",
       "1494      44         820  36080  \n",
       "1495       5         820   4100  \n",
       "1496      17         820  13940  \n",
       "1497       7         820   5740  \n",
       "1498      37         820  30340  "
      ]
     },
     "execution_count": 13,
     "metadata": {},
     "output_type": "execute_result"
    }
   ],
   "source": [
    "data.tail()"
   ]
  },
  {
   "cell_type": "markdown",
   "metadata": {},
   "source": [
    "After removal of duplicate data now we have 1499 entries 0 to 1498"
   ]
  },
  {
   "cell_type": "code",
   "execution_count": 14,
   "metadata": {},
   "outputs": [
    {
     "data": {
      "text/plain": [
       "Date           0\n",
       "Country        0\n",
       "Distributor    0\n",
       "Brand          0\n",
       "Operator       0\n",
       "Unit Cost      0\n",
       "Amount         0\n",
       "Unit Price     0\n",
       "Sales          0\n",
       "dtype: int64"
      ]
     },
     "execution_count": 14,
     "metadata": {},
     "output_type": "execute_result"
    }
   ],
   "source": [
    "data.isnull().sum()"
   ]
  },
  {
   "cell_type": "markdown",
   "metadata": {},
   "source": [
    "To check datatype"
   ]
  },
  {
   "cell_type": "code",
   "execution_count": 15,
   "metadata": {},
   "outputs": [
    {
     "data": {
      "text/plain": [
       "Date           datetime64[ns]\n",
       "Country                object\n",
       "Distributor            object\n",
       "Brand                  object\n",
       "Operator               object\n",
       "Unit Cost               int64\n",
       "Amount                  int64\n",
       "Unit Price              int64\n",
       "Sales                   int64\n",
       "dtype: object"
      ]
     },
     "execution_count": 15,
     "metadata": {},
     "output_type": "execute_result"
    }
   ],
   "source": [
    "data.dtypes"
   ]
  },
  {
   "cell_type": "code",
   "execution_count": 16,
   "metadata": {},
   "outputs": [
    {
     "name": "stdout",
     "output_type": "stream",
     "text": [
      "datetime64[ns]\n"
     ]
    }
   ],
   "source": [
    "print(data['Date'].dtypes)"
   ]
  },
  {
   "cell_type": "markdown",
   "metadata": {},
   "source": [
    "Dataset is in correct format"
   ]
  },
  {
   "cell_type": "code",
   "execution_count": 17,
   "metadata": {},
   "outputs": [
    {
     "data": {
      "text/html": [
       "<div>\n",
       "<style scoped>\n",
       "    .dataframe tbody tr th:only-of-type {\n",
       "        vertical-align: middle;\n",
       "    }\n",
       "\n",
       "    .dataframe tbody tr th {\n",
       "        vertical-align: top;\n",
       "    }\n",
       "\n",
       "    .dataframe thead th {\n",
       "        text-align: right;\n",
       "    }\n",
       "</style>\n",
       "<table border=\"1\" class=\"dataframe\">\n",
       "  <thead>\n",
       "    <tr style=\"text-align: right;\">\n",
       "      <th></th>\n",
       "      <th>Date</th>\n",
       "      <th>Country</th>\n",
       "      <th>Distributor</th>\n",
       "      <th>Brand</th>\n",
       "      <th>Operator</th>\n",
       "      <th>Unit Cost</th>\n",
       "      <th>Amount</th>\n",
       "      <th>Unit Price</th>\n",
       "      <th>Sales</th>\n",
       "    </tr>\n",
       "  </thead>\n",
       "  <tbody>\n",
       "    <tr>\n",
       "      <th>0</th>\n",
       "      <td>2018-05-24</td>\n",
       "      <td>Colombia</td>\n",
       "      <td>Metro</td>\n",
       "      <td>Apple</td>\n",
       "      <td>Tuenti</td>\n",
       "      <td>750</td>\n",
       "      <td>89</td>\n",
       "      <td>1200</td>\n",
       "      <td>106800</td>\n",
       "    </tr>\n",
       "    <tr>\n",
       "      <th>1</th>\n",
       "      <td>2020-05-31</td>\n",
       "      <td>El Salvador</td>\n",
       "      <td>Saga Falabella</td>\n",
       "      <td>Apple</td>\n",
       "      <td>Tuenti</td>\n",
       "      <td>750</td>\n",
       "      <td>34</td>\n",
       "      <td>1200</td>\n",
       "      <td>40800</td>\n",
       "    </tr>\n",
       "    <tr>\n",
       "      <th>2</th>\n",
       "      <td>2021-08-30</td>\n",
       "      <td>Switzerland</td>\n",
       "      <td>Metro</td>\n",
       "      <td>Apple</td>\n",
       "      <td>Tuenti</td>\n",
       "      <td>750</td>\n",
       "      <td>18</td>\n",
       "      <td>1200</td>\n",
       "      <td>21600</td>\n",
       "    </tr>\n",
       "    <tr>\n",
       "      <th>3</th>\n",
       "      <td>2021-08-03</td>\n",
       "      <td>Mexico</td>\n",
       "      <td>Oeschle</td>\n",
       "      <td>Apple</td>\n",
       "      <td>Tuenti</td>\n",
       "      <td>750</td>\n",
       "      <td>129</td>\n",
       "      <td>1200</td>\n",
       "      <td>154800</td>\n",
       "    </tr>\n",
       "    <tr>\n",
       "      <th>4</th>\n",
       "      <td>2018-03-21</td>\n",
       "      <td>Paraguay</td>\n",
       "      <td>Ripley</td>\n",
       "      <td>Apple</td>\n",
       "      <td>Tuenti</td>\n",
       "      <td>750</td>\n",
       "      <td>95</td>\n",
       "      <td>1200</td>\n",
       "      <td>114000</td>\n",
       "    </tr>\n",
       "    <tr>\n",
       "      <th>...</th>\n",
       "      <td>...</td>\n",
       "      <td>...</td>\n",
       "      <td>...</td>\n",
       "      <td>...</td>\n",
       "      <td>...</td>\n",
       "      <td>...</td>\n",
       "      <td>...</td>\n",
       "      <td>...</td>\n",
       "      <td>...</td>\n",
       "    </tr>\n",
       "    <tr>\n",
       "      <th>1494</th>\n",
       "      <td>2020-08-23</td>\n",
       "      <td>Germany</td>\n",
       "      <td>Tottus</td>\n",
       "      <td>Samsung</td>\n",
       "      <td>Movistar</td>\n",
       "      <td>590</td>\n",
       "      <td>44</td>\n",
       "      <td>820</td>\n",
       "      <td>36080</td>\n",
       "    </tr>\n",
       "    <tr>\n",
       "      <th>1495</th>\n",
       "      <td>2018-08-17</td>\n",
       "      <td>Cuba</td>\n",
       "      <td>Saga Falabella</td>\n",
       "      <td>Samsung</td>\n",
       "      <td>Movistar</td>\n",
       "      <td>590</td>\n",
       "      <td>5</td>\n",
       "      <td>820</td>\n",
       "      <td>4100</td>\n",
       "    </tr>\n",
       "    <tr>\n",
       "      <th>1496</th>\n",
       "      <td>2018-12-13</td>\n",
       "      <td>Denmark</td>\n",
       "      <td>Ripley</td>\n",
       "      <td>Samsung</td>\n",
       "      <td>Movistar</td>\n",
       "      <td>590</td>\n",
       "      <td>17</td>\n",
       "      <td>820</td>\n",
       "      <td>13940</td>\n",
       "    </tr>\n",
       "    <tr>\n",
       "      <th>1497</th>\n",
       "      <td>2019-12-09</td>\n",
       "      <td>Germany</td>\n",
       "      <td>Ripley</td>\n",
       "      <td>Samsung</td>\n",
       "      <td>Movistar</td>\n",
       "      <td>590</td>\n",
       "      <td>7</td>\n",
       "      <td>820</td>\n",
       "      <td>5740</td>\n",
       "    </tr>\n",
       "    <tr>\n",
       "      <th>1498</th>\n",
       "      <td>2020-04-14</td>\n",
       "      <td>Venezuela</td>\n",
       "      <td>Oeschle</td>\n",
       "      <td>Samsung</td>\n",
       "      <td>Movistar</td>\n",
       "      <td>590</td>\n",
       "      <td>37</td>\n",
       "      <td>820</td>\n",
       "      <td>30340</td>\n",
       "    </tr>\n",
       "  </tbody>\n",
       "</table>\n",
       "<p>1499 rows × 9 columns</p>\n",
       "</div>"
      ],
      "text/plain": [
       "           Date      Country     Distributor    Brand  Operator  Unit Cost  \\\n",
       "0    2018-05-24     Colombia           Metro    Apple    Tuenti        750   \n",
       "1    2020-05-31  El Salvador  Saga Falabella    Apple    Tuenti        750   \n",
       "2    2021-08-30  Switzerland           Metro    Apple    Tuenti        750   \n",
       "3    2021-08-03       Mexico         Oeschle    Apple    Tuenti        750   \n",
       "4    2018-03-21     Paraguay          Ripley    Apple    Tuenti        750   \n",
       "...         ...          ...             ...      ...       ...        ...   \n",
       "1494 2020-08-23      Germany          Tottus  Samsung  Movistar        590   \n",
       "1495 2018-08-17         Cuba  Saga Falabella  Samsung  Movistar        590   \n",
       "1496 2018-12-13      Denmark          Ripley  Samsung  Movistar        590   \n",
       "1497 2019-12-09      Germany          Ripley  Samsung  Movistar        590   \n",
       "1498 2020-04-14    Venezuela         Oeschle  Samsung  Movistar        590   \n",
       "\n",
       "      Amount  Unit Price   Sales  \n",
       "0         89        1200  106800  \n",
       "1         34        1200   40800  \n",
       "2         18        1200   21600  \n",
       "3        129        1200  154800  \n",
       "4         95        1200  114000  \n",
       "...      ...         ...     ...  \n",
       "1494      44         820   36080  \n",
       "1495       5         820    4100  \n",
       "1496      17         820   13940  \n",
       "1497       7         820    5740  \n",
       "1498      37         820   30340  \n",
       "\n",
       "[1499 rows x 9 columns]"
      ]
     },
     "execution_count": 17,
     "metadata": {},
     "output_type": "execute_result"
    }
   ],
   "source": [
    "data"
   ]
  },
  {
   "cell_type": "markdown",
   "metadata": {},
   "source": [
    "Mobile price distribution"
   ]
  },
  {
   "cell_type": "code",
   "execution_count": 18,
   "metadata": {},
   "outputs": [
    {
     "data": {
      "image/png": "[encoded data removed]",
      "text/plain": [
       "<Figure size 800x500 with 1 Axes>"
      ]
     },
     "metadata": {},
     "output_type": "display_data"
    }
   ],
   "source": [
    "plt.figure(figsize=(8,5))\n",
    "sns.histplot(data['Unit Price'],bins=30, color='blue')\n",
    "plt.title(\"Distribution of Unit Prices\")\n",
    "plt.xlabel(\"Unit Price\")\n",
    "plt.ylabel(\"Frequency\")\n",
    "plt.show()"
   ]
  },
  {
   "cell_type": "markdown",
   "metadata": {},
   "source": [
    "=> From the above graph, Max mobile phones are sold at 800rs as it has the highest frequency distribution compared to other prices"
   ]
  },
  {
   "cell_type": "markdown",
   "metadata": {},
   "source": [
    "Sales trend over time"
   ]
  },
  {
   "cell_type": "code",
   "execution_count": 19,
   "metadata": {},
   "outputs": [
    {
     "data": {
      "text/html": [
       "<div>\n",
       "<style scoped>\n",
       "    .dataframe tbody tr th:only-of-type {\n",
       "        vertical-align: middle;\n",
       "    }\n",
       "\n",
       "    .dataframe tbody tr th {\n",
       "        vertical-align: top;\n",
       "    }\n",
       "\n",
       "    .dataframe thead th {\n",
       "        text-align: right;\n",
       "    }\n",
       "</style>\n",
       "<table border=\"1\" class=\"dataframe\">\n",
       "  <thead>\n",
       "    <tr style=\"text-align: right;\">\n",
       "      <th></th>\n",
       "      <th>Date</th>\n",
       "      <th>Country</th>\n",
       "      <th>Distributor</th>\n",
       "      <th>Brand</th>\n",
       "      <th>Operator</th>\n",
       "      <th>Unit Cost</th>\n",
       "      <th>Amount</th>\n",
       "      <th>Unit Price</th>\n",
       "      <th>Sales</th>\n",
       "      <th>YearMonth</th>\n",
       "    </tr>\n",
       "  </thead>\n",
       "  <tbody>\n",
       "    <tr>\n",
       "      <th>0</th>\n",
       "      <td>2018-05-24</td>\n",
       "      <td>Colombia</td>\n",
       "      <td>Metro</td>\n",
       "      <td>Apple</td>\n",
       "      <td>Tuenti</td>\n",
       "      <td>750</td>\n",
       "      <td>89</td>\n",
       "      <td>1200</td>\n",
       "      <td>106800</td>\n",
       "      <td>2018-05</td>\n",
       "    </tr>\n",
       "    <tr>\n",
       "      <th>1</th>\n",
       "      <td>2020-05-31</td>\n",
       "      <td>El Salvador</td>\n",
       "      <td>Saga Falabella</td>\n",
       "      <td>Apple</td>\n",
       "      <td>Tuenti</td>\n",
       "      <td>750</td>\n",
       "      <td>34</td>\n",
       "      <td>1200</td>\n",
       "      <td>40800</td>\n",
       "      <td>2020-05</td>\n",
       "    </tr>\n",
       "    <tr>\n",
       "      <th>2</th>\n",
       "      <td>2021-08-30</td>\n",
       "      <td>Switzerland</td>\n",
       "      <td>Metro</td>\n",
       "      <td>Apple</td>\n",
       "      <td>Tuenti</td>\n",
       "      <td>750</td>\n",
       "      <td>18</td>\n",
       "      <td>1200</td>\n",
       "      <td>21600</td>\n",
       "      <td>2021-08</td>\n",
       "    </tr>\n",
       "    <tr>\n",
       "      <th>3</th>\n",
       "      <td>2021-08-03</td>\n",
       "      <td>Mexico</td>\n",
       "      <td>Oeschle</td>\n",
       "      <td>Apple</td>\n",
       "      <td>Tuenti</td>\n",
       "      <td>750</td>\n",
       "      <td>129</td>\n",
       "      <td>1200</td>\n",
       "      <td>154800</td>\n",
       "      <td>2021-08</td>\n",
       "    </tr>\n",
       "    <tr>\n",
       "      <th>4</th>\n",
       "      <td>2018-03-21</td>\n",
       "      <td>Paraguay</td>\n",
       "      <td>Ripley</td>\n",
       "      <td>Apple</td>\n",
       "      <td>Tuenti</td>\n",
       "      <td>750</td>\n",
       "      <td>95</td>\n",
       "      <td>1200</td>\n",
       "      <td>114000</td>\n",
       "      <td>2018-03</td>\n",
       "    </tr>\n",
       "  </tbody>\n",
       "</table>\n",
       "</div>"
      ],
      "text/plain": [
       "        Date      Country     Distributor  Brand Operator  Unit Cost  Amount  \\\n",
       "0 2018-05-24     Colombia           Metro  Apple   Tuenti        750      89   \n",
       "1 2020-05-31  El Salvador  Saga Falabella  Apple   Tuenti        750      34   \n",
       "2 2021-08-30  Switzerland           Metro  Apple   Tuenti        750      18   \n",
       "3 2021-08-03       Mexico         Oeschle  Apple   Tuenti        750     129   \n",
       "4 2018-03-21     Paraguay          Ripley  Apple   Tuenti        750      95   \n",
       "\n",
       "   Unit Price   Sales YearMonth  \n",
       "0        1200  106800   2018-05  \n",
       "1        1200   40800   2020-05  \n",
       "2        1200   21600   2021-08  \n",
       "3        1200  154800   2021-08  \n",
       "4        1200  114000   2018-03  "
      ]
     },
     "execution_count": 19,
     "metadata": {},
     "output_type": "execute_result"
    }
   ],
   "source": [
    "#Make a YearMonth column by extracting the year and month from the Date column\n",
    "data['YearMonth'] = data['Date'].dt.to_period(\"M\")\n",
    "data.head()"
   ]
  },
  {
   "cell_type": "code",
   "execution_count": 20,
   "metadata": {},
   "outputs": [
    {
     "data": {
      "image/png": "[encoded data removed]",
      "text/plain": [
       "<Figure size 1500x600 with 1 Axes>"
      ]
     },
     "metadata": {},
     "output_type": "display_data"
    }
   ],
   "source": [
    "# Aggregate Sales by month\n",
    "monthlySales = data.groupby('YearMonth')[\"Sales\"].sum()\n",
    "plt.figure(figsize=(15,6))\n",
    "monthlySales.plot(marker='o',color='blue',linestyle='-')\n",
    "plt.title(\"Sales trend over time\")\n",
    "plt.xlabel(\"Year-Month\")\n",
    "plt.ylabel(\"Total Sales\")\n",
    "plt.show()"
   ]
  },
  {
   "cell_type": "markdown",
   "metadata": {},
   "source": [
    "=> According to above graph, monthly sales are very fluctuating in nature because of many ups and downs. It can be seen that in the starting month of 2021 sales increases drastically, it can be happpen because of new brand came into the market or there can be any pandemic like situation so that people need to be moved to online servies. But as time grow sales again goes down and showing fluctuating behaviour."
   ]
  },
  {
   "cell_type": "markdown",
   "metadata": {},
   "source": [
    "Variation in sales according to country"
   ]
  },
  {
   "cell_type": "code",
   "execution_count": 21,
   "metadata": {},
   "outputs": [
    {
     "data": {
      "text/html": [
       "<div>\n",
       "<style scoped>\n",
       "    .dataframe tbody tr th:only-of-type {\n",
       "        vertical-align: middle;\n",
       "    }\n",
       "\n",
       "    .dataframe tbody tr th {\n",
       "        vertical-align: top;\n",
       "    }\n",
       "\n",
       "    .dataframe thead th {\n",
       "        text-align: right;\n",
       "    }\n",
       "</style>\n",
       "<table border=\"1\" class=\"dataframe\">\n",
       "  <thead>\n",
       "    <tr style=\"text-align: right;\">\n",
       "      <th></th>\n",
       "      <th>Date</th>\n",
       "      <th>Country</th>\n",
       "      <th>Distributor</th>\n",
       "      <th>Brand</th>\n",
       "      <th>Operator</th>\n",
       "      <th>Unit Cost</th>\n",
       "      <th>Amount</th>\n",
       "      <th>Unit Price</th>\n",
       "      <th>Sales</th>\n",
       "      <th>YearMonth</th>\n",
       "    </tr>\n",
       "  </thead>\n",
       "  <tbody>\n",
       "    <tr>\n",
       "      <th>0</th>\n",
       "      <td>2018-05-24</td>\n",
       "      <td>Colombia</td>\n",
       "      <td>Metro</td>\n",
       "      <td>Apple</td>\n",
       "      <td>Tuenti</td>\n",
       "      <td>750</td>\n",
       "      <td>89</td>\n",
       "      <td>1200</td>\n",
       "      <td>106800</td>\n",
       "      <td>2018-05</td>\n",
       "    </tr>\n",
       "    <tr>\n",
       "      <th>1</th>\n",
       "      <td>2020-05-31</td>\n",
       "      <td>El Salvador</td>\n",
       "      <td>Saga Falabella</td>\n",
       "      <td>Apple</td>\n",
       "      <td>Tuenti</td>\n",
       "      <td>750</td>\n",
       "      <td>34</td>\n",
       "      <td>1200</td>\n",
       "      <td>40800</td>\n",
       "      <td>2020-05</td>\n",
       "    </tr>\n",
       "    <tr>\n",
       "      <th>2</th>\n",
       "      <td>2021-08-30</td>\n",
       "      <td>Switzerland</td>\n",
       "      <td>Metro</td>\n",
       "      <td>Apple</td>\n",
       "      <td>Tuenti</td>\n",
       "      <td>750</td>\n",
       "      <td>18</td>\n",
       "      <td>1200</td>\n",
       "      <td>21600</td>\n",
       "      <td>2021-08</td>\n",
       "    </tr>\n",
       "    <tr>\n",
       "      <th>3</th>\n",
       "      <td>2021-08-03</td>\n",
       "      <td>Mexico</td>\n",
       "      <td>Oeschle</td>\n",
       "      <td>Apple</td>\n",
       "      <td>Tuenti</td>\n",
       "      <td>750</td>\n",
       "      <td>129</td>\n",
       "      <td>1200</td>\n",
       "      <td>154800</td>\n",
       "      <td>2021-08</td>\n",
       "    </tr>\n",
       "    <tr>\n",
       "      <th>4</th>\n",
       "      <td>2018-03-21</td>\n",
       "      <td>Paraguay</td>\n",
       "      <td>Ripley</td>\n",
       "      <td>Apple</td>\n",
       "      <td>Tuenti</td>\n",
       "      <td>750</td>\n",
       "      <td>95</td>\n",
       "      <td>1200</td>\n",
       "      <td>114000</td>\n",
       "      <td>2018-03</td>\n",
       "    </tr>\n",
       "    <tr>\n",
       "      <th>...</th>\n",
       "      <td>...</td>\n",
       "      <td>...</td>\n",
       "      <td>...</td>\n",
       "      <td>...</td>\n",
       "      <td>...</td>\n",
       "      <td>...</td>\n",
       "      <td>...</td>\n",
       "      <td>...</td>\n",
       "      <td>...</td>\n",
       "      <td>...</td>\n",
       "    </tr>\n",
       "    <tr>\n",
       "      <th>1494</th>\n",
       "      <td>2020-08-23</td>\n",
       "      <td>Germany</td>\n",
       "      <td>Tottus</td>\n",
       "      <td>Samsung</td>\n",
       "      <td>Movistar</td>\n",
       "      <td>590</td>\n",
       "      <td>44</td>\n",
       "      <td>820</td>\n",
       "      <td>36080</td>\n",
       "      <td>2020-08</td>\n",
       "    </tr>\n",
       "    <tr>\n",
       "      <th>1495</th>\n",
       "      <td>2018-08-17</td>\n",
       "      <td>Cuba</td>\n",
       "      <td>Saga Falabella</td>\n",
       "      <td>Samsung</td>\n",
       "      <td>Movistar</td>\n",
       "      <td>590</td>\n",
       "      <td>5</td>\n",
       "      <td>820</td>\n",
       "      <td>4100</td>\n",
       "      <td>2018-08</td>\n",
       "    </tr>\n",
       "    <tr>\n",
       "      <th>1496</th>\n",
       "      <td>2018-12-13</td>\n",
       "      <td>Denmark</td>\n",
       "      <td>Ripley</td>\n",
       "      <td>Samsung</td>\n",
       "      <td>Movistar</td>\n",
       "      <td>590</td>\n",
       "      <td>17</td>\n",
       "      <td>820</td>\n",
       "      <td>13940</td>\n",
       "      <td>2018-12</td>\n",
       "    </tr>\n",
       "    <tr>\n",
       "      <th>1497</th>\n",
       "      <td>2019-12-09</td>\n",
       "      <td>Germany</td>\n",
       "      <td>Ripley</td>\n",
       "      <td>Samsung</td>\n",
       "      <td>Movistar</td>\n",
       "      <td>590</td>\n",
       "      <td>7</td>\n",
       "      <td>820</td>\n",
       "      <td>5740</td>\n",
       "      <td>2019-12</td>\n",
       "    </tr>\n",
       "    <tr>\n",
       "      <th>1498</th>\n",
       "      <td>2020-04-14</td>\n",
       "      <td>Venezuela</td>\n",
       "      <td>Oeschle</td>\n",
       "      <td>Samsung</td>\n",
       "      <td>Movistar</td>\n",
       "      <td>590</td>\n",
       "      <td>37</td>\n",
       "      <td>820</td>\n",
       "      <td>30340</td>\n",
       "      <td>2020-04</td>\n",
       "    </tr>\n",
       "  </tbody>\n",
       "</table>\n",
       "<p>1499 rows × 10 columns</p>\n",
       "</div>"
      ],
      "text/plain": [
       "           Date      Country     Distributor    Brand  Operator  Unit Cost  \\\n",
       "0    2018-05-24     Colombia           Metro    Apple    Tuenti        750   \n",
       "1    2020-05-31  El Salvador  Saga Falabella    Apple    Tuenti        750   \n",
       "2    2021-08-30  Switzerland           Metro    Apple    Tuenti        750   \n",
       "3    2021-08-03       Mexico         Oeschle    Apple    Tuenti        750   \n",
       "4    2018-03-21     Paraguay          Ripley    Apple    Tuenti        750   \n",
       "...         ...          ...             ...      ...       ...        ...   \n",
       "1494 2020-08-23      Germany          Tottus  Samsung  Movistar        590   \n",
       "1495 2018-08-17         Cuba  Saga Falabella  Samsung  Movistar        590   \n",
       "1496 2018-12-13      Denmark          Ripley  Samsung  Movistar        590   \n",
       "1497 2019-12-09      Germany          Ripley  Samsung  Movistar        590   \n",
       "1498 2020-04-14    Venezuela         Oeschle  Samsung  Movistar        590   \n",
       "\n",
       "      Amount  Unit Price   Sales YearMonth  \n",
       "0         89        1200  106800   2018-05  \n",
       "1         34        1200   40800   2020-05  \n",
       "2         18        1200   21600   2021-08  \n",
       "3        129        1200  154800   2021-08  \n",
       "4         95        1200  114000   2018-03  \n",
       "...      ...         ...     ...       ...  \n",
       "1494      44         820   36080   2020-08  \n",
       "1495       5         820    4100   2018-08  \n",
       "1496      17         820   13940   2018-12  \n",
       "1497       7         820    5740   2019-12  \n",
       "1498      37         820   30340   2020-04  \n",
       "\n",
       "[1499 rows x 10 columns]"
      ]
     },
     "execution_count": 21,
     "metadata": {},
     "output_type": "execute_result"
    }
   ],
   "source": [
    "data"
   ]
  },
  {
   "cell_type": "code",
   "execution_count": 22,
   "metadata": {},
   "outputs": [
    {
     "data": {
      "image/png": "[encoded data removed]",
      "text/plain": [
       "<Figure size 2500x600 with 1 Axes>"
      ]
     },
     "metadata": {},
     "output_type": "display_data"
    }
   ],
   "source": [
    "countrySales = data.groupby('Country')[\"Sales\"].sum()\n",
    "#convert to dataframe for plotting\n",
    "countrySales= countrySales.reset_index()\n",
    "plt.figure(figsize=(25,6))\n",
    "sns.barplot(x=\"Country\",y=\"Sales\",data=countrySales,palette='viridis',legend=False,hue=0.5)\n",
    "plt.title(\"Total Sales by country\")\n",
    "plt.xlabel(\"Total Sales\")\n",
    "plt.ylabel(\"Country\")\n",
    "plt.show()"
   ]
  },
  {
   "cell_type": "markdown",
   "metadata": {},
   "source": [
    "=> According to above barplot Colombia and Ireland are having the highest total Sales and Jamaica has the lowest Total Sales and other contries are having moderate Total Sales"
   ]
  },
  {
   "cell_type": "markdown",
   "metadata": {},
   "source": [
    "Correlation between the Unit Cost,Amount,Unit Price,Sales"
   ]
  },
  {
   "cell_type": "code",
   "execution_count": 23,
   "metadata": {},
   "outputs": [
    {
     "data": {
      "image/png": "[encoded data removed]",
      "text/plain": [
       "<Figure size 640x480 with 2 Axes>"
      ]
     },
     "metadata": {},
     "output_type": "display_data"
    }
   ],
   "source": [
    "corr = data[['Unit Cost','Amount','Unit Price','Sales']].corr()\n",
    "sns.heatmap(corr,annot=True,cmap='coolwarm',linewidths=0.5)\n",
    "plt.title(\"Correlation Matrix\")\n",
    "plt.show()"
   ]
  },
  {
   "cell_type": "markdown",
   "metadata": {},
   "source": [
    "=> According to above heatmap, There is highest correlation(0.95) between unit cost and unti price i.e., values changes in one of them will drastically affect the other. Amount and Sales also having the very high correlation means if demand of product increases amount of the product also increases.In this way, amount and unit cost having the lowest correlation, same with amount and unit price."
   ]
  },
  {
   "cell_type": "code",
   "execution_count": 24,
   "metadata": {},
   "outputs": [
    {
     "name": "stderr",
     "output_type": "stream",
     "text": [
      "C:\\Users\\ABHISHEK\\AppData\\Local\\Temp\\ipykernel_24516\\4067445143.py:5: FutureWarning: \n",
      "\n",
      "Passing `palette` without assigning `hue` is deprecated and will be removed in v0.14.0. Assign the `x` variable to `hue` and set `legend=False` for the same effect.\n",
      "\n",
      "  sns.barplot(x='Brand', y='Sales', data=brandSales, palette='viridis',linewidth=0.5,legend=False)\n"
     ]
    },
    {
     "data": {
      "image/png": "[encoded data removed]",
      "text/plain": [
       "<Figure size 1000x600 with 1 Axes>"
      ]
     },
     "metadata": {},
     "output_type": "display_data"
    }
   ],
   "source": [
    "brandSales = data.groupby('Brand')['Sales'].sum()\n",
    "brandSales = brandSales.sort_values(ascending=False)\n",
    "brandSales = brandSales.reset_index()\n",
    "plt.figure(figsize=(10,6))\n",
    "sns.barplot(x='Brand', y='Sales', data=brandSales, palette='viridis',linewidth=0.5,legend=False)\n",
    "#Add data labels to the bars\n",
    "for index, value in enumerate(brandSales['Sales']):\n",
    "    plt.text(index, value, f'{value:.0f}', ha='center', va='bottom')\n",
    "plt.title(\"Total sales by brand\")\n",
    "plt.xlabel(\"Brand\")\n",
    "plt.ylabel(\"Sales\")\n",
    "plt.show()"
   ]
  },
  {
   "cell_type": "markdown",
   "metadata": {},
   "source": [
    "=> Apple and LG are the topmost highest selling companies and Huawei is the lowest selling company"
   ]
  },
  {
   "cell_type": "code",
   "execution_count": 25,
   "metadata": {},
   "outputs": [
    {
     "data": {
      "text/html": [
       "<div>\n",
       "<style scoped>\n",
       "    .dataframe tbody tr th:only-of-type {\n",
       "        vertical-align: middle;\n",
       "    }\n",
       "\n",
       "    .dataframe tbody tr th {\n",
       "        vertical-align: top;\n",
       "    }\n",
       "\n",
       "    .dataframe thead th {\n",
       "        text-align: right;\n",
       "    }\n",
       "</style>\n",
       "<table border=\"1\" class=\"dataframe\">\n",
       "  <thead>\n",
       "    <tr style=\"text-align: right;\">\n",
       "      <th></th>\n",
       "      <th>Date</th>\n",
       "      <th>Country</th>\n",
       "      <th>Distributor</th>\n",
       "      <th>Brand</th>\n",
       "      <th>Operator</th>\n",
       "      <th>Unit Cost</th>\n",
       "      <th>Amount</th>\n",
       "      <th>Unit Price</th>\n",
       "      <th>Sales</th>\n",
       "      <th>YearMonth</th>\n",
       "    </tr>\n",
       "  </thead>\n",
       "  <tbody>\n",
       "    <tr>\n",
       "      <th>0</th>\n",
       "      <td>2018-05-24</td>\n",
       "      <td>Colombia</td>\n",
       "      <td>Metro</td>\n",
       "      <td>Apple</td>\n",
       "      <td>Tuenti</td>\n",
       "      <td>750</td>\n",
       "      <td>89</td>\n",
       "      <td>1200</td>\n",
       "      <td>106800</td>\n",
       "      <td>2018-05</td>\n",
       "    </tr>\n",
       "    <tr>\n",
       "      <th>1</th>\n",
       "      <td>2020-05-31</td>\n",
       "      <td>El Salvador</td>\n",
       "      <td>Saga Falabella</td>\n",
       "      <td>Apple</td>\n",
       "      <td>Tuenti</td>\n",
       "      <td>750</td>\n",
       "      <td>34</td>\n",
       "      <td>1200</td>\n",
       "      <td>40800</td>\n",
       "      <td>2020-05</td>\n",
       "    </tr>\n",
       "    <tr>\n",
       "      <th>2</th>\n",
       "      <td>2021-08-30</td>\n",
       "      <td>Switzerland</td>\n",
       "      <td>Metro</td>\n",
       "      <td>Apple</td>\n",
       "      <td>Tuenti</td>\n",
       "      <td>750</td>\n",
       "      <td>18</td>\n",
       "      <td>1200</td>\n",
       "      <td>21600</td>\n",
       "      <td>2021-08</td>\n",
       "    </tr>\n",
       "    <tr>\n",
       "      <th>3</th>\n",
       "      <td>2021-08-03</td>\n",
       "      <td>Mexico</td>\n",
       "      <td>Oeschle</td>\n",
       "      <td>Apple</td>\n",
       "      <td>Tuenti</td>\n",
       "      <td>750</td>\n",
       "      <td>129</td>\n",
       "      <td>1200</td>\n",
       "      <td>154800</td>\n",
       "      <td>2021-08</td>\n",
       "    </tr>\n",
       "    <tr>\n",
       "      <th>4</th>\n",
       "      <td>2018-03-21</td>\n",
       "      <td>Paraguay</td>\n",
       "      <td>Ripley</td>\n",
       "      <td>Apple</td>\n",
       "      <td>Tuenti</td>\n",
       "      <td>750</td>\n",
       "      <td>95</td>\n",
       "      <td>1200</td>\n",
       "      <td>114000</td>\n",
       "      <td>2018-03</td>\n",
       "    </tr>\n",
       "  </tbody>\n",
       "</table>\n",
       "</div>"
      ],
      "text/plain": [
       "        Date      Country     Distributor  Brand Operator  Unit Cost  Amount  \\\n",
       "0 2018-05-24     Colombia           Metro  Apple   Tuenti        750      89   \n",
       "1 2020-05-31  El Salvador  Saga Falabella  Apple   Tuenti        750      34   \n",
       "2 2021-08-30  Switzerland           Metro  Apple   Tuenti        750      18   \n",
       "3 2021-08-03       Mexico         Oeschle  Apple   Tuenti        750     129   \n",
       "4 2018-03-21     Paraguay          Ripley  Apple   Tuenti        750      95   \n",
       "\n",
       "   Unit Price   Sales YearMonth  \n",
       "0        1200  106800   2018-05  \n",
       "1        1200   40800   2020-05  \n",
       "2        1200   21600   2021-08  \n",
       "3        1200  154800   2021-08  \n",
       "4        1200  114000   2018-03  "
      ]
     },
     "execution_count": 25,
     "metadata": {},
     "output_type": "execute_result"
    }
   ],
   "source": [
    "data.head()"
   ]
  },
  {
   "cell_type": "markdown",
   "metadata": {},
   "source": [
    "Country wise top selling brand"
   ]
  },
  {
   "cell_type": "code",
   "execution_count": 26,
   "metadata": {},
   "outputs": [
    {
     "name": "stderr",
     "output_type": "stream",
     "text": [
      "C:\\Users\\ABHISHEK\\AppData\\Local\\Temp\\ipykernel_24516\\3179875787.py:3: FutureWarning: \n",
      "\n",
      "Passing `palette` without assigning `hue` is deprecated and will be removed in v0.14.0. Assign the `x` variable to `hue` and set `legend=False` for the same effect.\n",
      "\n",
      "  sns.boxplot(x='Brand', y='Amount', data=data, palette='viridis')\n"
     ]
    },
    {
     "data": {
      "image/png": "[encoded data removed]",
      "text/plain": [
       "<Figure size 1000x1000 with 1 Axes>"
      ]
     },
     "metadata": {},
     "output_type": "display_data"
    }
   ],
   "source": [
    "sns.set(style=\"whitegrid\")\n",
    "plt.figure(figsize=(10,10))\n",
    "sns.boxplot(x='Brand', y='Amount', data=data, palette='viridis')\n",
    "plt.title(\"Sales by Brand\")\n",
    "plt.xlabel(\"Brand\")\n",
    "plt.ylabel(\"Sales\")\n",
    "plt.xticks(rotation=45)\n",
    "plt.show()\n"
   ]
  },
  {
   "cell_type": "markdown",
   "metadata": {},
   "source": [
    "C:\\Users\\ABHISHEK\\OneDrive\\Desktop\\python libraries\\pythonfolder\\.vscode\\pythonproject.ipynb"
   ]
  }
 ],
 "metadata": {
  "kernelspec": {
   "display_name": "Python 3",
   "language": "python",
   "name": "python3"
  },
  "language_info": {
   "codemirror_mode": {
    "name": "ipython",
    "version": 3
   },
   "file_extension": ".py",
   "mimetype": "text/x-python",
   "name": "python",
   "nbconvert_exporter": "python",
   "pygments_lexer": "ipython3",
   "version": "3.13.1"
  }
 },
 "nbformat": 4,
 "nbformat_minor": 2
}
